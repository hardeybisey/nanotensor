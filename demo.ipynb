{
 "cells": [
  {
   "cell_type": "code",
   "execution_count": 1,
   "metadata": {},
   "outputs": [],
   "source": [
    "from graphviz import Digraph\n",
    "def trace(root):\n",
    "    nodes, edges = set(), set()\n",
    "    def build(v):\n",
    "        if v not in nodes:\n",
    "            nodes.add(v)\n",
    "            for child in v._downstream:\n",
    "                edges.add((child, v))\n",
    "                build(child)\n",
    "    build(root)\n",
    "    return nodes, edges\n",
    "\n",
    "def draw_dot(root, format='svg', rankdir='LR'):\n",
    "    \"\"\"\n",
    "    format: png | svg | ...\n",
    "    rankdir: TB (top to bottom graph) | LR (left to right)\n",
    "    \"\"\"\n",
    "    assert rankdir in ['LR', 'TB']\n",
    "    nodes, edges = trace(root)\n",
    "    dot = Digraph(format=format, graph_attr={'rankdir': rankdir}) #, node_attr={'rankdir': 'TB'})\n",
    "    \n",
    "    for n in nodes:\n",
    "        dot.node(name=str(id(n)), label = \"{ data %.4f | grad %.4f }\" % (n.data, n.grad), shape='record')\n",
    "        if n._op:\n",
    "            dot.node(name=str(id(n)) + n._op, label=n._op)\n",
    "            dot.edge(str(id(n)) + n._op, str(id(n)))\n",
    "    for n1, n2 in edges:\n",
    "        dot.edge(str(id(n1)), str(id(n2)) + n2._op)\n",
    "    return dot"
   ]
  },
  {
   "cell_type": "code",
   "execution_count": 7,
   "metadata": {},
   "outputs": [],
   "source": [
    "from nanotensor.module.engine.tensor import Tensor\n",
    "from nanotensor.module.model import layers, loss\n",
    "import matplotlib.pyplot as plt\n",
    "import sklearn\n",
    "from sklearn import datasets\n",
    "from sklearn.model_selection import train_test_split\n",
    "from sklearn.metrics import log_loss"
   ]
  },
  {
   "cell_type": "code",
   "execution_count": 13,
   "metadata": {},
   "outputs": [],
   "source": [
    "iris = datasets.load_iris()\n",
    "X = iris.data  \n",
    "y = iris.target\n",
    "X_train, X_test, y_train, y_test = train_test_split(X,y,test_size=0.3, random_state=42)"
   ]
  },
  {
   "cell_type": "code",
   "execution_count": 11,
   "metadata": {},
   "outputs": [
    {
     "name": "stdout",
     "output_type": "stream",
     "text": [
      "Layer(type)         Shape              Parameters\n",
      "---------------------------------------------------\n",
      "LinearLayer       Shape: (4, 20))      Params: 100\n",
      "---------------------------------------------------\n",
      "ReLULayer       Shape: (20, 20))      Params: 420\n",
      "---------------------------------------------------\n",
      "ReLULayer       Shape: (20, 10))      Params: 210\n",
      "---------------------------------------------------\n",
      "SigmoidLayer       Shape: (10, 3))      Params: 33\n",
      "---------------------------------------------------\n",
      "Trainable Parameters                          763\n"
     ]
    }
   ],
   "source": [
    "#There are four features and 3 classes, the network will be setup to solve a multiclass problem\n",
    "model = layers.Sequential([layers.Layer((4,20)),\n",
    "                layers.Layer((20,20) ,activation='relu'),\n",
    "                layers.Layer((20,10) ,activation='relu'),\n",
    "                layers.Layer((10,3) ,activation='sigmoid')])\n",
    "model.summary()\n",
    "\n",
    "# for i in range(50):\n",
    "#     ypred = [model(x) for x in X]\n",
    "#     loss = sum([(yhat-y)**2 for yhat,y in zip(ypred,y)]) / len(ypred)\n",
    "#     if i in range(0,500,25):\n",
    "#         print(f'Iteration:{i} ---> {loss.data:}')\n",
    "#     lr = 0.01\n",
    "#     loss.zero_grad()\n",
    "#     loss.backward()\n",
    "#     for p in model.parameters():\n",
    "#         p.data += -(lr * p.grad)"
   ]
  },
  {
   "cell_type": "code",
   "execution_count": 18,
   "metadata": {},
   "outputs": [
    {
     "data": {
      "text/plain": [
       "[Tensor(data= (1.0), grad=(0.0)),\n",
       " Tensor(data= (1.0), grad=(0.0)),\n",
       " Tensor(data= (1.0), grad=(0.0))]"
      ]
     },
     "execution_count": 18,
     "metadata": {},
     "output_type": "execute_result"
    }
   ],
   "source": [
    "model([5,7,50,55,60,60])"
   ]
  },
  {
   "cell_type": "code",
   "execution_count": null,
   "metadata": {},
   "outputs": [],
   "source": []
  }
 ],
 "metadata": {
  "kernelspec": {
   "display_name": "test",
   "language": "python",
   "name": "python3"
  },
  "language_info": {
   "codemirror_mode": {
    "name": "ipython",
    "version": 3
   },
   "file_extension": ".py",
   "mimetype": "text/x-python",
   "name": "python",
   "nbconvert_exporter": "python",
   "pygments_lexer": "ipython3",
   "version": "3.7.16"
  },
  "orig_nbformat": 4
 },
 "nbformat": 4,
 "nbformat_minor": 2
}
