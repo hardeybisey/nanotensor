{
 "cells": [
  {
   "cell_type": "code",
   "execution_count": 1,
   "metadata": {},
   "outputs": [],
   "source": [
    "from module.engine.tensor import Tensor\n",
    "from module.model.layers import Layer , Sequential\n",
    "from module.model.loss import Loss\n",
    "import matplotlib.pyplot as plt\n",
    "from sklearn import datasets\n",
    "from sklearn.model_selection import train_test_split\n",
    "import numpy as np"
   ]
  },
  {
   "attachments": {},
   "cell_type": "markdown",
   "metadata": {},
   "source": [
    "## Solving a regression problem with the sklearn diabetes dataset"
   ]
  },
  {
   "cell_type": "code",
   "execution_count": 2,
   "metadata": {},
   "outputs": [],
   "source": [
    "#load data\n",
    "X , y = datasets.load_diabetes(return_X_y=True, as_frame=False, scaled=True)\n",
    "\n",
    "#split data for training and testing\n",
    "X_train, X_test, y_train, y_test = train_test_split(X,y,test_size=0.3, random_state=42)"
   ]
  },
  {
   "cell_type": "code",
   "execution_count": 3,
   "metadata": {},
   "outputs": [
    {
     "data": {
      "text/plain": [
       "array([ 0.03807591,  0.05068012,  0.06169621,  0.02187239, -0.0442235 ,\n",
       "       -0.03482076, -0.04340085, -0.00259226,  0.01990749, -0.01764613])"
      ]
     },
     "execution_count": 3,
     "metadata": {},
     "output_type": "execute_result"
    }
   ],
   "source": [
    "X[0]"
   ]
  },
  {
   "cell_type": "code",
   "execution_count": 6,
   "metadata": {},
   "outputs": [
    {
     "name": "stdout",
     "output_type": "stream",
     "text": [
      "Layer(type)         Shape              Parameters\n",
      "---------------------------------------------------\n",
      "ReLULayer       Shape: (10, 20))      Params: 220\n",
      "---------------------------------------------------\n",
      "ReLULayer       Shape: (20, 20))      Params: 420\n",
      "---------------------------------------------------\n",
      "ReLULayer       Shape: (20, 5))      Params: 105\n",
      "---------------------------------------------------\n",
      "LinearLayer       Shape: (5, 1))      Params: 6\n",
      "---------------------------------------------------\n",
      "Trainable Parameters                          751\n"
     ]
    }
   ],
   "source": [
    "model = Sequential([Layer(size=(10,20), activation='relu'),\n",
    "                    Layer(size=(20,20) ,activation='relu'),\n",
    "                    Layer(size=(20,5) ,activation='relu'),\n",
    "                    Layer(size=(5,1))])\n",
    "model.summary()"
   ]
  },
  {
   "cell_type": "code",
   "execution_count": 40,
   "metadata": {},
   "outputs": [
    {
     "data": {
      "text/plain": [
       "4.414285714285715"
      ]
     },
     "execution_count": 40,
     "metadata": {},
     "output_type": "execute_result"
    }
   ],
   "source": [
    "len(X_train)/70"
   ]
  },
  {
   "cell_type": "code",
   "execution_count": 4,
   "metadata": {},
   "outputs": [],
   "source": [
    "lossi = [] \n",
    "niter = 1000\n",
    "bactch_size = 30\n",
    "lr = 0.01\n",
    "def train_model(split):\n",
    "    X, Y = {'train': (X_train, y_train), 'test': (X_test, y_test)}[split]\n",
    "    for t in range(niter):\n",
    "        size = np.random.randint(0, len(X), bactch_size)\n",
    "        ypred = [model(X[x]) for x in size]\n",
    "        loss = sum([Loss.mean_squared_error(y[size], ypred)])\n",
    "        lossi.append(loss.data)\n",
    "        if t % 50 == 0:\n",
    "            print(f'Epoch {t} loss: {loss.data}')\n",
    "            model.zero_grad()\n",
    "            loss.backward()\n",
    "            for p in model.parameters():\n",
    "                p.data += - lr * p.grad "
   ]
  },
  {
   "cell_type": "code",
   "execution_count": 7,
   "metadata": {},
   "outputs": [
    {
     "name": "stdout",
     "output_type": "stream",
     "text": [
      "Epoch 0 loss: 19352.77585502553\n",
      "Epoch 50 loss: 25758.569131716293\n",
      "Epoch 100 loss: 15583.888465194352\n"
     ]
    }
   ],
   "source": [
    "train_model('train')"
   ]
  },
  {
   "cell_type": "code",
   "execution_count": 3,
   "metadata": {},
   "outputs": [],
   "source": [
    "xs = [\n",
    "  [2.0, 3.0, -1.0],\n",
    "  [3.0, -1.0, 0.5],\n",
    "  [0.5, 1.0, 1.0],\n",
    "  [1.0, 1.0, -1.0],\n",
    "]\n",
    "ys = [1.0, -1.0, -1.0, 1.0] \n",
    "n = Sequential([Layer(size=(3,4), activation='tanh'),\n",
    "                    Layer(size=(4,4) ,activation='tanh'),\n",
    "                    Layer(size=(4,1), activation='tanh')])\n",
    "n.summary()\n",
    "for k in range(20): \n",
    "    p = [n(x) for x in xs]\n",
    "    loss = sum((yout - ygt)**2 for ygt, yout in zip(ys, p))\n",
    "    for p in n.parameters():\n",
    "        p.grad = 0.0\n",
    "    loss.backward()\n",
    "\n",
    "    # update\n",
    "    for p in n.parameters():\n",
    "        p.data += -0.1 * p.grad\n",
    "    print(k, loss.data)"
   ]
  }
 ],
 "metadata": {
  "kernelspec": {
   "display_name": "test",
   "language": "python",
   "name": "python3"
  },
  "language_info": {
   "codemirror_mode": {
    "name": "ipython",
    "version": 3
   },
   "file_extension": ".py",
   "mimetype": "text/x-python",
   "name": "python",
   "nbconvert_exporter": "python",
   "pygments_lexer": "ipython3",
   "version": "3.10.4"
  },
  "orig_nbformat": 4
 },
 "nbformat": 4,
 "nbformat_minor": 2
}
