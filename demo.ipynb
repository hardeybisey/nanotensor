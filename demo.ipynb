{
 "cells": [
  {
   "cell_type": "code",
   "execution_count": 53,
   "metadata": {},
   "outputs": [],
   "source": [
    "from module.engine.tensor import Tensor\n",
    "from module.model.layers import Layer , Sequential\n",
    "from module.model.loss import Loss\n",
    "import matplotlib.pyplot as plt\n",
    "from sklearn import datasets\n",
    "from sklearn.model_selection import train_test_split\n",
    "from sklearn.metrics import log_loss"
   ]
  },
  {
   "attachments": {},
   "cell_type": "markdown",
   "metadata": {},
   "source": [
    "## Solving a classification problem with the sklearn breast cancer dataset with two classes"
   ]
  },
  {
   "cell_type": "code",
   "execution_count": null,
   "metadata": {},
   "outputs": [],
   "source": [
    "#load data\n",
    "X , y  = datasets.load_breast_cancer(return_X_y=True,as_frame=False)\n",
    "\n",
    "#split data for training and testing\n",
    "X_train, X_test, y_train, y_test = train_test_split(X,y,test_size=0.3, random_state=42)"
   ]
  },
  {
   "cell_type": "code",
   "execution_count": 58,
   "metadata": {},
   "outputs": [
    {
     "name": "stdout",
     "output_type": "stream",
     "text": [
      "Layer(type)         Shape              Parameters\n",
      "---------------------------------------------------\n",
      "ReLULayer       Shape: (4, 20))      Params: 100\n",
      "---------------------------------------------------\n",
      "ReLULayer       Shape: (20, 20))      Params: 420\n",
      "---------------------------------------------------\n",
      "ReLULayer       Shape: (20, 10))      Params: 210\n",
      "---------------------------------------------------\n",
      "SigmoidLayer       Shape: (10, 1))      Params: 11\n",
      "---------------------------------------------------\n",
      "Trainable Parameters                          741\n"
     ]
    }
   ],
   "source": [
    "model1 = Sequential([Layer(size=(4,20), activation='relu'),\n",
    "                    Layer(size=(20,20) ,activation='relu'),\n",
    "                    Layer(size=(20,10) ,activation='relu'),\n",
    "                    Layer(size=(10,1) ,activation='sigmoid')])\n",
    "loss = Loss.binary_crossentropy()\n",
    "model1.summary()"
   ]
  },
  {
   "cell_type": "code",
   "execution_count": 35,
   "metadata": {},
   "outputs": [],
   "source": [
    "#Regression\n",
    "X , y = datasets.load_diabetes(return_X_y=True, as_frame=False, scaled=False)\n"
   ]
  },
  {
   "cell_type": "code",
   "execution_count": null,
   "metadata": {},
   "outputs": [],
   "source": []
  }
 ],
 "metadata": {
  "kernelspec": {
   "display_name": "test",
   "language": "python",
   "name": "python3"
  },
  "language_info": {
   "codemirror_mode": {
    "name": "ipython",
    "version": 3
   },
   "file_extension": ".py",
   "mimetype": "text/x-python",
   "name": "python",
   "nbconvert_exporter": "python",
   "pygments_lexer": "ipython3",
   "version": "3.10.4"
  },
  "orig_nbformat": 4
 },
 "nbformat": 4,
 "nbformat_minor": 2
}
